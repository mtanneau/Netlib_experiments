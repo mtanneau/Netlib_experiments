{
 "cells": [
  {
   "cell_type": "code",
   "execution_count": 1,
   "metadata": {},
   "outputs": [
    {
     "data": {
      "text/plain": [
       "\"/home/mathieu/GitHub/NetlibBenchmark/Project.toml\""
      ]
     },
     "execution_count": 1,
     "metadata": {},
     "output_type": "execute_result"
    }
   ],
   "source": [
    "using Pkg\n",
    "Pkg.activate(\"../.\")"
   ]
  },
  {
   "cell_type": "code",
   "execution_count": 2,
   "metadata": {
    "collapsed": true
   },
   "outputs": [],
   "source": [
    "using Printf\n",
    "using Random"
   ]
  },
  {
   "cell_type": "code",
   "execution_count": 3,
   "metadata": {
    "collapsed": true
   },
   "outputs": [],
   "source": [
    "using LinearAlgebra\n",
    "BLAS.set_num_threads(1)"
   ]
  },
  {
   "cell_type": "code",
   "execution_count": 4,
   "metadata": {},
   "outputs": [
    {
     "data": {
      "text/plain": [
       "MathProgBase"
      ]
     },
     "execution_count": 4,
     "metadata": {},
     "output_type": "execute_result"
    }
   ],
   "source": [
    "import MathProgBase\n",
    "const MPB = MathProgBase"
   ]
  },
  {
   "cell_type": "code",
   "execution_count": 6,
   "metadata": {
    "collapsed": true
   },
   "outputs": [],
   "source": [
    "import Clp:ClpSolver\n",
    "import GLPK\n",
    "import GLPKMathProgInterface:GLPKSolverLP\n",
    "import Ipopt:IpoptSolver\n",
    "import Mosek:MosekSolver\n",
    "import ECOS:ECOSSolver"
   ]
  },
  {
   "cell_type": "code",
   "execution_count": 5,
   "metadata": {},
   "outputs": [
    {
     "name": "stderr",
     "output_type": "stream",
     "text": [
      "┌ Info: Recompiling stale cache file /home/mathieu/.julia/compiled/v1.0/Tulip/nBETv.ji for Tulip [6dd1b50a-3aae-11e9-10b5-ef983d2400fa]\n",
      "└ @ Base loading.jl:1187\n"
     ]
    }
   ],
   "source": [
    "import Tulip"
   ]
  },
  {
   "cell_type": "code",
   "execution_count": 6,
   "metadata": {},
   "outputs": [
    {
     "name": "stdout",
     "output_type": "stream",
     "text": [
      " Itn    Primal Obj      Dual Obj        PFeas    DFeas    GFeas     Mu       Time\n",
      "   0    -7.8000000e+01  -4.8178967e+07  1.10e+06 7.00e+00 4.82e+07  1.0e+00  0.67\n",
      "   1    -3.3766998e+02  -4.8178672e+07  3.14e+05 1.99e+00 1.37e+07  2.8e-01  1.90\n",
      "   2    -1.4378714e+03  -4.8176819e+07  9.39e+04 5.95e-01 4.09e+06  8.5e-02  1.90\n",
      "   3    -1.1297866e+04  -4.8157741e+07  1.54e+04 9.76e-02 6.72e+05  1.4e-02  1.90\n",
      "   4    -3.4099488e+05  -4.7529505e+07  5.60e+02 3.55e-03 2.44e+04  5.1e-04  1.90\n",
      "   5    -2.4510587e+06  -4.4576264e+07  8.22e+01 5.21e-04 3.58e+03  7.4e-05  1.90\n",
      "   6    -1.0221900e+07  -4.4358089e+07  2.74e+01 1.74e-04 1.20e+03  2.5e-05  1.90\n",
      "   7    -3.3615548e+07  -4.4964389e+07  3.40e+00 2.15e-05 1.48e+02  3.1e-06  1.90\n",
      "   8    -4.1118677e+07  -4.6606747e+07  1.40e+00 8.87e-06 6.11e+01  1.3e-06  1.90\n",
      "   9    -4.7027237e+07  -4.7648510e+07  1.42e-01 8.98e-07 6.18e+00  1.3e-07  1.90\n",
      "  10    -4.7611924e+07  -4.7754194e+07  3.21e-02 2.03e-07 1.40e+00  2.9e-08  1.90\n",
      "  11    -4.7779019e+07  -4.7786321e+07  1.64e-03 1.04e-08 7.16e-02  1.5e-09  1.90\n",
      "  12    -4.7785989e+07  -4.7787444e+07  3.27e-04 2.07e-09 1.43e-02  3.0e-10  1.91\n",
      "  13    -4.7787792e+07  -4.7787809e+07  3.79e-06 2.40e-11 1.65e-04  3.4e-12  1.91\n",
      "  14    -4.7787812e+07  -4.7787812e+07  2.45e-10 1.55e-15 1.07e-08  2.2e-16  1.91\n",
      "  15    -4.7787812e+07  -4.7787812e+07  2.18e-13 2.82e-18 5.70e-13  1.6e-20  1.91\n",
      "  16    -4.7787812e+07  -4.7787812e+07  1.83e-13 3.04e-18 1.71e-13  2.4e-21  1.91\n",
      "  17    -4.7787812e+07  -4.7787812e+07  2.19e-13 5.96e-18 1.14e-13  3.9e-22  1.91\n",
      "  18    -4.7787812e+07  -4.7787812e+07  4.07e-13 3.90e-18 2.38e-17  2.6e-22  1.91\n",
      "  19    -4.7787812e+07  -4.7787812e+07  4.11e-13 9.43e-18 5.69e-14  1.6e-22  1.91\n",
      "  20    -4.7787812e+07  -4.7787812e+07  1.22e-12 1.16e-17 5.69e-14  9.8e-23  1.91\n",
      "  21    -4.7787812e+07  -4.7787812e+07  9.52e-13 1.41e-17 5.68e-14  4.3e-23  1.91\n",
      "  22    -4.7787812e+07  -4.7787812e+07  3.01e-12 1.39e-17 2.13e-18  2.4e-23  1.91\n",
      "  23    -4.7787812e+07  -4.7787812e+07  8.96e-12 1.90e-16 1.14e-13  2.0e-23  1.91\n",
      "  24    -4.7787812e+07  -4.7787812e+07  8.42e-12 1.80e-16 1.14e-13  2.0e-23  1.91\n",
      "  25    -4.7787812e+07  -4.7787812e+07  8.45e-12 1.61e-16 1.14e-13  2.0e-23  1.92\n",
      "  26    -4.7787812e+07  -4.7787812e+07  8.41e-12 1.47e-16 5.68e-14  1.9e-23  1.92\n",
      "  27    -4.7787812e+07  -4.7787812e+07  3.86e-12 6.54e-17 5.68e-14  1.4e-23  1.92\n",
      "  28    -4.7787812e+07  -4.7787812e+07  8.72e-12 1.91e-16 5.68e-14  1.1e-23  1.92\n",
      "  29    -4.7787812e+07  -4.7787812e+07  8.67e-12 2.11e-16 3.11e-19  3.7e-24  1.92\n",
      "  30    -4.7787812e+07  -4.7787812e+07  3.02e-11 2.09e-16 1.51e-19  1.8e-24  1.92\n",
      "  31    -4.7787812e+07  -4.7787812e+07  4.94e-10 1.09e-14 1.14e-13  1.2e-24  1.92\n",
      "  32    -4.7787812e+07  -4.7787812e+07  3.80e-10 9.64e-15 5.68e-14  8.3e-25  1.92\n",
      "  33    -4.7787812e+07  -4.7787812e+07  3.80e-10 9.63e-15 5.68e-14  8.6e-25  1.92\n",
      "  34    -4.7787812e+07  -4.7787812e+07  3.80e-10 9.63e-15 7.65e-20  8.6e-25  1.93\n",
      "  35    -4.7787812e+07  -4.7787812e+07  3.74e-10 9.53e-15 7.60e-20  1.1e-24  1.93\n",
      "  36    -4.7787812e+07  -4.7787812e+07  3.47e-10 9.60e-15 5.68e-14  1.7e-24  1.93\n",
      "  37    -4.7787812e+07  -4.7787812e+07  3.46e-10 9.58e-15 5.68e-14  1.7e-24  1.93\n",
      "  38    -4.7787812e+07  -4.7787812e+07  3.46e-10 9.57e-15 7.81e-20  1.7e-24  1.93\n",
      "  39    -4.7787812e+07  -4.7787812e+07  2.84e-10 8.68e-15 1.14e-13  1.7e-24  1.93\n",
      "  40    -4.7787812e+07  -4.7787812e+07  1.38e-10 5.85e-15 9.30e-20  1.6e-24  1.93\n",
      "  41    -4.7787812e+07  -4.7787812e+07  1.54e-10 4.18e-15 6.75e-20  1.2e-24  1.93\n",
      "  42    -4.7787812e+07  -4.7787812e+07  2.09e-10 3.01e-15 7.61e-20  1.1e-24  1.93\n",
      "  43    -4.7787812e+07  -4.7787812e+07  1.53e-10 2.50e-15 6.36e-20  9.1e-25  1.93\n",
      "  44    -4.7787812e+07  -4.7787812e+07  1.53e-10 2.50e-15 5.68e-14  9.2e-25  1.93\n",
      "  45    -4.7787812e+07  -4.7787812e+07  1.53e-10 2.50e-15 6.36e-20  9.3e-25  1.93\n",
      "  46    -4.7787812e+07  -4.7787812e+07  1.50e-10 2.48e-15 1.14e-13  9.5e-25  1.93\n",
      "  47    -4.7787812e+07  -4.7787812e+07  1.50e-10 2.48e-15 5.68e-14  9.6e-25  1.93\n",
      "  48    -4.7787812e+07  -4.7787812e+07  1.50e-10 2.47e-15 6.32e-20  1.0e-24  1.93\n",
      "  49    -4.7787812e+07  -4.7787812e+07  8.82e-11 2.20e-15 5.44e-20  1.0e-24  1.93\n",
      "  50    -4.7787812e+07  -4.7787812e+07  8.38e-11 2.14e-15 5.68e-14  1.0e-24  1.93\n",
      "  51    -4.7787812e+07  -4.7787812e+07  8.26e-11 2.07e-15 5.15e-20  1.1e-24  1.94\n",
      "  52    -4.7787812e+07  -4.7787812e+07  1.97e-10 6.64e-15 3.75e-20  1.3e-24  1.94\n",
      "  53    -4.7787812e+07  -4.7787812e+07  1.97e-10 6.58e-15 5.68e-14  1.3e-24  1.94\n",
      "  54    -4.7787812e+07  -4.7787812e+07  1.98e-10 6.57e-15 3.75e-20  1.3e-24  1.94\n",
      "  55    -4.7787812e+07  -4.7787812e+07  1.96e-10 6.54e-15 3.74e-20  1.3e-24  1.94\n",
      "  56    -4.7787812e+07  -4.7787812e+07  1.86e-10 6.74e-15 5.68e-14  1.5e-24  1.94\n",
      "  57    -4.7787812e+07  -4.7787812e+07  1.11e-10 4.45e-15 5.68e-14  2.0e-24  1.94\n",
      "  58    -4.7787812e+07  -4.7787812e+07  1.11e-10 4.37e-15 5.68e-14  1.9e-24  1.94\n",
      "  59    -4.7787812e+07  -4.7787812e+07  1.12e-10 4.01e-15 5.68e-14  1.9e-24  1.94\n",
      "  60    -4.7787812e+07  -4.7787812e+07  8.39e-11 2.52e-15 5.68e-14  1.2e-24  1.94\n",
      "  61    -4.7787812e+07  -4.7787812e+07  8.39e-11 2.52e-15 5.68e-14  1.2e-24  1.94\n",
      "  62    -4.7787812e+07  -4.7787812e+07  8.28e-11 2.49e-15 5.68e-14  1.2e-24  1.94\n",
      "  63    -4.7787812e+07  -4.7787812e+07  8.32e-11 2.48e-15 5.80e-20  1.2e-24  1.94\n",
      "  64    -4.7787812e+07  -4.7787812e+07  8.32e-11 2.48e-15 5.80e-20  1.2e-24  1.94\n",
      "  65    -4.7787812e+07  -4.7787812e+07  7.18e-11 2.05e-15 6.62e-20  1.1e-24  1.94\n",
      "  66    -4.7787812e+07  -4.7787812e+07  7.18e-11 2.05e-15 5.68e-14  1.1e-24  1.94\n",
      "  67    -4.7787812e+07  -4.7787812e+07  7.18e-11 2.05e-15 5.68e-14  1.1e-24  1.95\n",
      "  68    -4.7787812e+07  -4.7787812e+07  7.15e-11 2.03e-15 6.61e-20  1.1e-24  1.95\n",
      "  69    -4.7787812e+07  -4.7787812e+07  7.42e-11 1.91e-15 5.68e-14  1.4e-24  1.95\n",
      "  70    -4.7787812e+07  -4.7787812e+07  7.35e-11 1.87e-15 7.70e-20  1.5e-24  1.95\n",
      "  71    -4.7787812e+07  -4.7787812e+07  7.26e-11 1.77e-15 8.47e-20  1.5e-24  1.95\n",
      "  72    -4.7787812e+07  -4.7787812e+07  1.15e-10 1.57e-15 7.31e-20  1.4e-24  1.95\n",
      "  73    -4.7787812e+07  -4.7787812e+07  5.12e-11 1.18e-15 5.45e-20  1.1e-24  1.95\n",
      "  74    -4.7787812e+07  -4.7787812e+07  5.05e-11 1.18e-15 5.68e-14  1.2e-24  1.95\n",
      "  75    -4.7787812e+07  -4.7787812e+07  5.01e-11 1.18e-15 5.45e-20  1.2e-24  1.95\n",
      "  76    -4.7787812e+07  -4.7787812e+07  1.42e-10 1.44e-15 5.68e-14  1.9e-24  1.95\n",
      "  77    -4.7787812e+07  -4.7787812e+07  1.03e-10 8.39e-16 4.39e-20  1.3e-24  1.95\n",
      "  78    -4.7787812e+07  -4.7787812e+07  1.98e-10 2.97e-16 5.68e-14  1.7e-25  1.95\n",
      "  79    -4.7787812e+07  -4.7787812e+07  6.00e-10 1.60e-14 5.68e-14  1.7e-25  1.95\n",
      "  80    -4.7787812e+07  -4.7787812e+07  6.00e-10 1.60e-14 8.93e-21  1.7e-25  1.95\n",
      "  81    -4.7787812e+07  -4.7787812e+07  6.00e-10 1.59e-14 1.14e-13  1.8e-25  1.96\n",
      "  82    -4.7787812e+07  -4.7787812e+07  6.01e-10 1.58e-14 5.68e-14  1.9e-25  1.96\n",
      "  83    -4.7787812e+07  -4.7787812e+07  6.02e-10 1.59e-14 1.14e-13  2.0e-25  1.96\n",
      "  84    -4.7787812e+07  -4.7787812e+07  7.35e-10 1.68e-14 5.68e-14  2.6e-25  1.96\n",
      "  85    -4.7787812e+07  -4.7787812e+07  7.36e-10 1.68e-14 5.68e-14  2.6e-25  1.96\n",
      "  86    -4.7787812e+07  -4.7787812e+07  7.38e-10 1.67e-14 5.68e-14  2.7e-25  1.96\n",
      "  87    -4.7787812e+07  -4.7787812e+07  7.36e-10 1.67e-14 5.68e-14  2.9e-25  1.96\n",
      "  88    -4.7787812e+07  -4.7787812e+07  7.36e-10 1.67e-14 5.68e-14  2.9e-25  1.96\n",
      "  89    -4.7787812e+07  -4.7787812e+07  7.26e-10 1.66e-14 5.68e-14  3.6e-25  1.96\n",
      "  90    -4.7787812e+07  -4.7787812e+07  7.25e-10 1.60e-14 1.14e-13  4.5e-25  1.96\n",
      "  91    -4.7787812e+07  -4.7787812e+07  7.00e-10 1.54e-14 1.14e-13  6.0e-25  1.96\n",
      "  92    -4.7787812e+07  -4.7787812e+07  7.00e-10 1.56e-14 1.14e-13  6.8e-25  1.96\n",
      "  93    -4.7787812e+07  -4.7787812e+07  6.91e-10 1.45e-14 5.68e-14  7.0e-25  1.96\n",
      "  94    -4.7787812e+07  -4.7787812e+07  6.74e-10 1.42e-14 1.14e-13  1.1e-24  1.96\n",
      "  95    -4.7787812e+07  -4.7787812e+07  6.71e-10 1.42e-14 1.14e-13  1.2e-24  1.96\n",
      "  96    -4.7787812e+07  -4.7787812e+07  6.71e-10 1.42e-14 1.14e-13  1.2e-24  1.96\n",
      "  97    -4.7787812e+07  -4.7787812e+07  6.77e-10 1.44e-14 1.14e-13  1.2e-24  1.96\n",
      "  98    -4.7787812e+07  -4.7787812e+07  6.74e-10 1.44e-14 1.14e-13  1.2e-24  1.96\n",
      "  99    -4.7787812e+07  -4.7787812e+07  6.17e-10 1.38e-14 5.68e-14  1.6e-24  1.97\n",
      " 100    -4.7787812e+07  -4.7787812e+07  5.54e-10 1.12e-14 1.14e-13  2.5e-24  1.97\n",
      " 101    -4.7787812e+07  -4.7787812e+07  2.16e-10 7.49e-15 5.68e-14  3.8e-24  1.97\n",
      " 102    -4.7787812e+07  -4.7787812e+07  1.91e-10 5.32e-15 1.14e-13  3.8e-24  1.97\n",
      " 103    -4.7787812e+07  -4.7787812e+07  1.78e-10 4.93e-15 1.14e-13  3.8e-24  1.97\n",
      " 104    -4.7787812e+07  -4.7787812e+07  1.72e-10 4.70e-15 5.68e-14  3.8e-24  1.97\n",
      " 105    -4.7787812e+07  -4.7787812e+07  1.57e-10 3.50e-15 5.68e-14  3.5e-24  1.97\n",
      " 106    -4.7787812e+07  -4.7787812e+07  1.35e-10 2.48e-15 1.02e-19  3.2e-24  1.97\n",
      " 107    -4.7787812e+07  -4.7787812e+07  1.34e-10 2.53e-15 1.03e-19  3.2e-24  1.97\n",
      " 108    -4.7787812e+07  -4.7787812e+07  1.34e-10 2.52e-15 1.03e-19  3.2e-24  1.97\n",
      " 109    -4.7787812e+07  -4.7787812e+07  1.36e-10 2.52e-15 1.14e-13  3.4e-24  1.97\n",
      " 110    -4.7787812e+07  -4.7787812e+07  1.36e-10 2.51e-15 1.05e-19  3.6e-24  1.97\n",
      " 111    -4.7787812e+07  -4.7787812e+07  1.36e-10 2.52e-15 1.07e-19  3.9e-24  1.97\n",
      " 112    -4.7787812e+07  -4.7787812e+07  1.32e-10 2.54e-15 5.68e-14  4.1e-24  1.97\n",
      " 113    -4.7787812e+07  -4.7787812e+07  1.28e-10 2.38e-15 5.68e-14  5.4e-24  1.97\n",
      " 114    -4.7787812e+07  -4.7787812e+07  1.29e-10 2.38e-15 1.07e-19  5.4e-24  1.97\n",
      " 115    -4.7787812e+07  -4.7787812e+07  1.29e-10 2.38e-15 1.07e-19  5.4e-24  1.97\n",
      " 116    -4.7787812e+07  -4.7787812e+07  1.27e-10 2.30e-15 1.22e-19  6.9e-24  1.98\n",
      " 117    -4.7787812e+07  -4.7787812e+07  1.48e-10 2.08e-15 4.10e-19  8.9e-24  1.98\n",
      " 118    -4.7787812e+07  -4.7787812e+07  8.74e-11 1.38e-15 5.68e-14  1.2e-23  1.98\n",
      " 119    -4.7787812e+07  -4.7787812e+07  4.83e-11 1.31e-15 2.74e-19  7.5e-24  1.98\n",
      " 120    -4.7787812e+07  -4.7787812e+07  4.14e-11 1.39e-15 5.68e-14  6.8e-24  1.98\n",
      " 121    -4.7787812e+07  -4.7787812e+07  1.84e-10 7.12e-15 5.68e-14  6.8e-24  1.98\n",
      " 122    -4.7787812e+07  -4.7787812e+07  1.57e-10 5.94e-15 5.68e-14  9.1e-24  1.98\n",
      " 123    -4.7787812e+07  -4.7787812e+07  1.52e-10 5.72e-15 5.98e-19  9.7e-24  1.98\n",
      " 124    -4.7787812e+07  -4.7787812e+07  1.37e-10 5.11e-15 5.45e-19  9.5e-24  1.98\n"
     ]
    },
    {
     "name": "stdout",
     "output_type": "stream",
     "text": [
      " 125    -4.7787812e+07  -4.7787812e+07  1.36e-10 5.02e-15 5.58e-19  9.7e-24  1.98\n",
      " 126    -4.7787812e+07  -4.7787812e+07  1.06e-10 3.92e-15 5.68e-14  1.1e-23  1.98\n",
      " 127    -4.7787812e+07  -4.7787812e+07  5.36e-11 1.72e-15 2.96e-19  6.6e-24  1.98\n",
      " 128    -4.7787812e+07  -4.7787812e+07  4.03e-11 1.18e-15 2.08e-19  4.7e-24  1.98\n",
      " 129    -4.7787812e+07  -4.7787812e+07  1.43e-10 3.45e-15 5.68e-14  1.7e-24  1.98\n",
      " 130    -4.7787812e+07  -4.7787812e+07  1.43e-10 3.45e-15 5.68e-14  1.7e-24  1.99\n",
      " 131    -4.7787812e+07  -4.7787812e+07  1.41e-10 3.45e-15 1.14e-13  1.7e-24  1.99\n",
      " 132    -4.7787812e+07  -4.7787812e+07  1.48e-10 3.30e-15 1.14e-13  1.7e-24  1.99\n",
      " 133    -4.7787812e+07  -4.7787812e+07  1.33e-10 4.44e-15 5.68e-14  8.6e-25  1.99\n",
      " 134    -4.7787812e+07  -4.7787812e+07  1.32e-10 4.45e-15 3.57e-20  8.6e-25  1.99\n",
      " 135    -4.7787812e+07  -4.7787812e+07  7.85e-11 4.40e-15 4.89e-20  9.8e-25  1.99\n",
      " 136    -4.7787812e+07  -4.7787812e+07  8.30e-11 4.25e-15 4.87e-20  1.0e-24  1.99\n",
      " 137    -4.7787812e+07  -4.7787812e+07  7.72e-11 4.21e-15 4.87e-20  1.1e-24  1.99\n",
      " 138    -4.7787812e+07  -4.7787812e+07  6.68e-11 3.25e-15 1.01e-19  1.5e-24  1.99\n",
      " 139    -4.7787812e+07  -4.7787812e+07  6.65e-11 3.24e-15 5.68e-14  1.6e-24  1.99\n",
      " 140    -4.7787812e+07  -4.7787812e+07  6.65e-11 3.24e-15 5.68e-14  1.6e-24  1.99\n",
      " 141    -4.7787812e+07  -4.7787812e+07  5.53e-11 2.75e-15 9.90e-20  1.8e-24  1.99\n",
      " 142    -4.7787812e+07  -4.7787812e+07  6.92e-11 2.75e-15 5.68e-14  1.7e-24  1.99\n",
      " 143    -4.7787812e+07  -4.7787812e+07  6.93e-11 2.75e-15 8.67e-20  1.7e-24  1.99\n",
      " 144    -4.7787812e+07  -4.7787812e+07  1.09e-10 2.65e-15 1.14e-13  1.6e-24  1.99\n",
      " 145    -4.7787812e+07  -4.7787812e+07  9.82e-11 2.54e-15 8.89e-20  1.7e-24  1.99\n",
      " 146    -4.7787812e+07  -4.7787812e+07  9.75e-11 2.49e-15 8.89e-20  1.9e-24  1.99\n",
      " 147    -4.7787812e+07  -4.7787812e+07  2.25e-10 7.53e-15 5.68e-14  3.9e-24  1.99\n",
      " 148    -4.7787812e+07  -4.7787812e+07  2.18e-10 7.49e-15 1.32e-19  5.0e-24  2.00\n",
      " 149    -4.7787812e+07  -4.7787812e+07  1.73e-10 6.52e-15 1.15e-19  9.4e-24  2.00\n",
      " 150    -4.7787812e+07  -4.7787812e+07  7.77e-11 3.28e-15 5.68e-14  4.5e-24  2.00\n",
      " 151    -4.7787812e+07  -4.7787812e+07  1.40e-10 2.37e-15 5.40e-20  2.2e-24  2.00\n",
      " 152    -4.7787812e+07  -4.7787812e+07  1.39e-10 2.36e-15 5.44e-20  2.2e-24  2.00\n",
      " 153    -4.7787812e+07  -4.7787812e+07  9.62e-10 1.32e-14 1.14e-13  2.8e-24  2.00\n",
      " 154    -4.7787812e+07  -4.7787812e+07  9.62e-10 1.32e-14 5.68e-14  2.8e-24  2.00\n",
      " 155    -4.7787812e+07  -4.7787812e+07  9.62e-10 1.32e-14 5.68e-14  2.8e-24  2.00\n",
      " 156    -4.7787812e+07  -4.7787812e+07  9.62e-10 1.32e-14 8.96e-20  2.8e-24  2.00\n",
      " 157    -4.7787812e+07  -4.7787812e+07  9.62e-10 1.31e-14 5.68e-14  2.8e-24  2.00\n",
      " 158    -4.7787812e+07  -4.7787812e+07  9.62e-10 1.31e-14 5.68e-14  2.8e-24  2.00\n",
      " 159    -4.7787812e+07  -4.7787812e+07  9.61e-10 1.31e-14 5.68e-14  2.8e-24  2.00\n",
      " 160    -4.7787812e+07  -4.7787812e+07  9.61e-10 1.31e-14 8.95e-20  3.0e-24  2.00\n",
      " 161    -4.7787812e+07  -4.7787812e+07  9.58e-10 1.31e-14 1.14e-13  3.3e-24  2.00\n",
      " 162    -4.7787812e+07  -4.7787812e+07  9.44e-10 1.29e-14 9.37e-20  3.5e-24  2.01\n",
      " 163    -4.7787812e+07  -4.7787812e+07  9.41e-10 1.30e-14 5.68e-14  3.6e-24  2.01\n",
      " 164    -4.7787812e+07  -4.7787812e+07  9.25e-10 1.28e-14 1.14e-13  3.8e-24  2.01\n",
      " 165    -4.7787812e+07  -4.7787812e+07  9.22e-10 1.27e-14 1.14e-13  3.8e-24  2.01\n",
      " 166    -4.7787812e+07  -4.7787812e+07  8.39e-10 1.20e-14 5.68e-14  4.7e-24  2.01\n",
      " 167    -4.7787812e+07  -4.7787812e+07  7.62e-10 1.07e-14 3.43e-19  5.5e-24  2.01\n",
      " 168    -4.7787812e+07  -4.7787812e+07  7.89e-10 8.65e-15 5.68e-14  6.2e-24  2.01\n",
      " 169    -4.7787812e+07  -4.7787812e+07  7.07e-10 7.76e-15 3.24e-19  5.8e-24  2.01\n",
      " 170    -4.7787812e+07  -4.7787812e+07  7.07e-10 7.75e-15 3.23e-19  6.0e-24  2.01\n",
      " 171    -4.7787812e+07  -4.7787812e+07  7.07e-10 7.74e-15 5.68e-14  6.1e-24  2.01\n",
      " 172    -4.7787812e+07  -4.7787812e+07  4.94e-10 5.69e-15 2.46e-19  4.9e-24  2.01\n",
      " 173    -4.7787812e+07  -4.7787812e+07  3.65e-10 4.01e-15 5.68e-14  3.7e-24  2.01\n",
      " 174    -4.7787812e+07  -4.7787812e+07  1.00e-10 2.82e-15 5.68e-14  1.3e-24  2.01\n",
      " 175    -4.7787812e+07  -4.7787812e+07  4.69e-10 7.66e-15 5.68e-14  4.6e-26  2.01\n",
      " 176    -4.7787812e+07  -4.7787812e+07  1.27e-08 2.09e-13 5.68e-14  2.3e-30  2.01\n",
      " 177    -4.7787788e+07  -4.7787788e+07  4.35e-05 9.72e-10 5.68e-14  3.3e-34  2.01\n",
      " 178    -4.7730677e+07  -4.7730677e+07  2.55e-01 1.06e-05 5.68e-14  2.6e-34  2.01\n",
      " 179    -4.7731539e+07  -4.7731539e+07  2.51e-01 1.05e-05 5.68e-14  2.6e-34  2.01\n",
      " 180    -4.7738087e+07  -4.7738087e+07  2.28e-01 2.62e-06 4.46e-30  7.8e-35  2.02\n",
      " 181    -4.7808577e+07  -4.7808577e+07  7.51e-01 5.04e-06 5.68e-14  4.9e-35  2.02\n",
      " 182    -4.7765936e+07  -4.7765936e+07  5.26e-01 2.67e-06 5.68e-14  1.7e-35  2.02\n",
      " 183    -4.7745071e+07  -4.7745071e+07  1.71e+00 2.55e-05 5.68e-14  5.1e-36  2.02\n",
      " 184    -4.7630990e+07  -4.7630990e+07  8.31e-01 2.98e-05 4.48e-31  6.4e-36  2.02\n",
      " 185    -4.7656366e+07  -4.7656366e+07  8.19e-01 2.96e-05 5.68e-14  9.9e-36  2.02\n",
      " 186    -4.7509407e+07  -4.7509407e+07  8.48e-01 5.68e-05 5.68e-14  7.5e-36  2.02\n",
      " 187    -4.7511921e+07  -4.7511921e+07  8.40e-01 5.68e-05 5.68e-14  8.5e-36  2.02\n",
      " 188    -4.7903428e+07  -4.7903428e+07  1.59e+00 1.05e-04 5.68e-14  6.5e-34  2.02\n",
      " 189    -4.7903363e+07  -4.7903363e+07  1.59e+00 1.05e-04 5.68e-14  6.5e-34  2.02\n",
      " 190    -4.7896543e+07  -4.7896543e+07  1.60e+00 1.05e-04 3.05e-31  6.6e-34  2.02\n",
      " 191    -4.8032068e+07  -4.8032068e+07  1.27e+00 9.64e-05 7.64e-31  1.2e-33  2.02\n",
      " 192    -4.6958234e+07  -4.6958234e+07  1.39e+00 9.69e-05 2.91e-30  7.8e-34  2.02\n",
      " 193    -4.7188252e+07  -4.7188252e+07  1.21e+00 7.75e-05 5.68e-14  6.2e-34  2.02\n",
      " 194    -4.7464997e+07  -4.7464997e+07  1.15e+00 2.18e-05 5.68e-14  1.9e-34  2.02\n",
      " 195    -4.7689001e+07  -4.7689001e+07  1.40e+00 3.28e-05 1.14e-13  2.4e-34  2.02\n",
      " 196    -4.7708486e+07  -4.7708486e+07  1.36e+00 3.30e-05 1.14e-13  2.4e-34  2.02\n",
      " 197    -4.7517464e+07  -4.7517464e+07  1.14e+00 4.14e-05 1.87e-30  2.0e-34  2.02\n",
      " 198    -4.7836955e+07  -4.7836955e+07  7.54e-01 3.70e-05 5.68e-14  1.8e-34  2.03\n",
      " 199    -4.7836233e+07  -4.7836233e+07  7.12e-01 3.65e-05 2.04e-30  1.8e-34  2.03\n",
      "  5.835244 seconds (21.39 M allocations: 1.127 GiB, 7.03% gc time)\n"
     ]
    },
    {
     "data": {
      "text/plain": [
       "Sln_Unknown::SolutionStatus = 0"
      ]
     },
     "execution_count": 6,
     "metadata": {},
     "output_type": "execute_result"
    }
   ],
   "source": [
    "# Read MPS file\n",
    "m, n, c, b, A, collb, colub, ranges = Tulip.readmps(\"../dat/netlib/GROW7.SIF\")\n",
    "\n",
    "solver_tlp = Tulip.TulipSolver(verbose=1, time_limit=120, barrier_iter_max=200, algo=1)\n",
    "model_tlp = MPB.LinearQuadraticModel(solver_tlp)\n",
    "MPB.loadproblem!(model_tlp, A, collb, colub, c, b, b, :Min)\n",
    "\n",
    "@time MPB.optimize!(model_tlp)"
   ]
  },
  {
   "cell_type": "code",
   "execution_count": 29,
   "metadata": {},
   "outputs": [
    {
     "name": "stdout",
     "output_type": "stream",
     "text": [
      "Problem\n",
      "  Name                   :                 \n",
      "  Objective sense        : min             \n",
      "  Type                   : LO (linear optimization problem)\n",
      "  Constraints            : 140             \n",
      "  Cones                  : 0               \n",
      "  Scalar variables       : 301             \n",
      "  Matrix variables       : 0               \n",
      "  Integer variables      : 0               \n",
      "\n",
      "Optimizer started.\n",
      "Presolve started.\n",
      "Linear dependency checker started.\n",
      "Linear dependency checker terminated.\n",
      "Eliminator started.\n",
      "Freed constraints in eliminator : 1\n",
      "Eliminator terminated.\n",
      "Eliminator - tries                  : 1                 time                   : 0.00            \n",
      "Lin. dep.  - tries                  : 1                 time                   : 0.00            \n",
      "Lin. dep.  - number                 : 0               \n",
      "Presolve terminated. Time: 0.00    \n",
      "Problem\n",
      "  Name                   :                 \n",
      "  Objective sense        : min             \n",
      "  Type                   : LO (linear optimization problem)\n",
      "  Constraints            : 140             \n",
      "  Cones                  : 0               \n",
      "  Scalar variables       : 301             \n",
      "  Matrix variables       : 0               \n",
      "  Integer variables      : 0               \n",
      "\n",
      "Optimizer  - threads                : 4               \n",
      "Optimizer  - solved problem         : the primal      \n",
      "Optimizer  - Constraints            : 139\n",
      "Optimizer  - Cones                  : 0\n",
      "Optimizer  - Scalar variables       : 300               conic                  : 0               \n",
      "Optimizer  - Semi-definite variables: 0                 scalarized             : 0               \n",
      "Factor     - setup time             : 0.00              dense det. time        : 0.00            \n",
      "Factor     - ML order time          : 0.00              GP order time          : 0.00            \n",
      "Factor     - nonzeros before factor : 1581              after factor           : 2702            \n",
      "Factor     - dense dim.             : 0                 flops                  : 1.12e+05        \n",
      "ITE PFEAS    DFEAS    GFEAS    PRSTATUS   POBJ              DOBJ              MU       TIME  \n",
      "0   1.1e+06  1.0e+02  7.1e+01  1.00e+02   -7.800000000e+01  0.000000000e+00   1.0e+02  0.01  \n",
      "1   1.1e+06  2.9e+02  3.4e+02  0.00e+00   -3.541218551e+02  5.412158847e+02   3.3e+02  0.01  \n",
      "2   2.3e+05  5.9e+01  6.9e+01  -1.00e+00  -1.972378813e+03  -1.079292564e+03  6.8e+01  0.01  \n",
      "3   2.3e+04  6.0e+00  7.0e+00  -1.00e+00  -2.362497309e+04  -2.273333001e+04  6.9e+00  0.01  \n",
      "4   4.2e+02  1.1e-01  1.3e-01  -9.97e-01  -1.302839634e+06  -1.297786791e+06  1.3e-01  0.01  \n",
      "5   8.1e-01  2.1e-04  2.5e-04  -8.62e-01  -1.862312888e+07  -1.857171764e+07  2.4e-04  0.01  \n",
      "6   6.1e-01  1.6e-04  1.9e-04  9.03e-01   -2.483614032e+07  -2.480267191e+07  1.9e-04  0.01  \n",
      "7   7.0e-02  1.8e-05  2.1e-05  9.17e-01   -4.235590231e+07  -4.232536362e+07  2.1e-05  0.01  \n",
      "8   2.2e-02  5.8e-06  6.8e-06  9.62e-01   -4.606350578e+07  -4.605301845e+07  6.8e-06  0.01  \n",
      "9   1.6e-03  4.2e-07  4.9e-07  9.88e-01   -4.761879033e+07  -4.761806915e+07  4.8e-07  0.02  \n",
      "10  1.8e-04  4.6e-08  5.4e-08  9.98e-01   -4.775827901e+07  -4.775821768e+07  5.4e-08  0.02  \n",
      "11  6.2e-06  1.6e-09  1.9e-09  1.00e+00   -4.778678560e+07  -4.778678441e+07  1.9e-09  0.02  \n",
      "12  1.1e-06  2.8e-10  3.3e-10  9.99e-01   -4.778751434e+07  -4.778751416e+07  3.3e-10  0.02  \n",
      "13  2.6e-08  6.7e-12  7.7e-12  1.00e+00   -4.778780773e+07  -4.778780772e+07  7.8e-12  0.02  \n",
      "14  9.7e-12  7.1e-16  1.7e-13  1.00e+00   -4.778781181e+07  -4.778781181e+07  8.3e-16  0.02  \n",
      "Optimizer terminated. Time: 0.02    \n",
      "\n",
      "\n",
      "Interior-point solution summary\n",
      "  Problem status  : PRIMAL_AND_DUAL_FEASIBLE\n",
      "  Solution status : OPTIMAL\n",
      "  Primal.  obj: -4.7787811814e+07   nrm: 1e+06    Viol.  con: 4e-07    var: 0e+00  \n",
      "  Dual.    obj: -4.7787811814e+07   nrm: 9e+01    Viol.  con: 0e+00    var: 7e-11  \n",
      "  0.019696 seconds (795 allocations: 33.313 KiB)\n"
     ]
    }
   ],
   "source": [
    "solver = GLPKSolverLP(\n",
    "#   presolve=true,  # no pre-solve for interior-point (apparently)\n",
    "    method=:InteriorPoint,\n",
    "    msg_lev=3\n",
    ");\n",
    "\n",
    "solver = MosekSolver(MSK_IPAR_INTPNT_BASIS=0)\n",
    "\n",
    "model = MPB.LinearQuadraticModel(solver)\n",
    "MPB.loadproblem!(model, A, collb, colub, c, b, b, :Min)\n",
    "\n",
    "@time MPB.optimize!(model)"
   ]
  },
  {
   "cell_type": "code",
   "execution_count": 32,
   "metadata": {},
   "outputs": [
    {
     "data": {
      "text/plain": [
       ":Optimal"
      ]
     },
     "execution_count": 32,
     "metadata": {},
     "output_type": "execute_result"
    }
   ],
   "source": [
    "MPB.status(model)"
   ]
  },
  {
   "cell_type": "code",
   "execution_count": 37,
   "metadata": {
    "collapsed": true
   },
   "outputs": [],
   "source": [
    "x = MPB.getsolution(model_tlp);\n",
    "y = MPB.getconstrduals(model_tlp);\n",
    "s = MPB.getreducedcosts(model_tlp);"
   ]
  },
  {
   "cell_type": "code",
   "execution_count": 38,
   "metadata": {},
   "outputs": [
    {
     "data": {
      "text/plain": [
       "73681.88880475736"
      ]
     },
     "execution_count": 38,
     "metadata": {},
     "output_type": "execute_result"
    }
   ],
   "source": [
    "norm(A*x - b, Inf)"
   ]
  },
  {
   "cell_type": "code",
   "execution_count": 39,
   "metadata": {},
   "outputs": [
    {
     "data": {
      "text/plain": [
       "61.53283609109866"
      ]
     },
     "execution_count": 39,
     "metadata": {},
     "output_type": "execute_result"
    }
   ],
   "source": [
    "norm(A'*y + s - c, Inf)"
   ]
  },
  {
   "cell_type": "code",
   "execution_count": 47,
   "metadata": {
    "collapsed": true
   },
   "outputs": [],
   "source": [
    "using SparseArrays"
   ]
  },
  {
   "cell_type": "code",
   "execution_count": 98,
   "metadata": {},
   "outputs": [
    {
     "name": "stdout",
     "output_type": "stream",
     "text": [
      "  0.019643 seconds (9.45 k allocations: 22.941 MiB, 4.44% gc time)\n"
     ]
    }
   ],
   "source": [
    "@time S = A*Diagonal(rand(n))*A';"
   ]
  },
  {
   "cell_type": "code",
   "execution_count": 99,
   "metadata": {},
   "outputs": [
    {
     "data": {
      "text/plain": [
       "0.06752557528113286"
      ]
     },
     "execution_count": 99,
     "metadata": {},
     "output_type": "execute_result"
    }
   ],
   "source": [
    "nnz(S) / (m*m)"
   ]
  },
  {
   "cell_type": "code",
   "execution_count": 101,
   "metadata": {},
   "outputs": [
    {
     "name": "stdout",
     "output_type": "stream",
     "text": [
      "  0.107831 seconds (419 allocations: 56.537 MiB, 55.77% gc time)\n"
     ]
    },
    {
     "data": {
      "text/plain": [
       "SuiteSparse.CHOLMOD.Factor{Float64}\n",
       "type:    LLt\n",
       "method:  supernodal\n",
       "maxnnz:  0\n",
       "nnz:     1219056\n",
       "success: true\n"
      ]
     },
     "execution_count": 101,
     "metadata": {},
     "output_type": "execute_result"
    }
   ],
   "source": [
    "@time F = cholesky(Symmetric(S), check=false)"
   ]
  },
  {
   "cell_type": "code",
   "execution_count": 4,
   "metadata": {
    "collapsed": true
   },
   "outputs": [],
   "source": [
    "netlib = readdir(\"./netlib\");"
   ]
  },
  {
   "cell_type": "code",
   "execution_count": 188,
   "metadata": {},
   "outputs": [
    {
     "data": {
      "text/plain": [
       "benchmark_instance (generic function with 1 method)"
      ]
     },
     "execution_count": 188,
     "metadata": {},
     "output_type": "execute_result"
    }
   ],
   "source": [
    "function benchmark_instance(model::MPB.AbstractLinearQuadraticModel, res; verbose=false)\n",
    "    \n",
    "    res[:success] = false\n",
    "    res[:fail] = false\n",
    "    res[:error] = false\n",
    "    \n",
    "    try\n",
    "        t = @elapsed MPB.optimize!(model)\n",
    "        s = MPB.status(model)\n",
    "        \n",
    "        res[:time] = t\n",
    "        res[:status] = \"$s\"\n",
    "\n",
    "        if s == :Optimal\n",
    "            verbose && @printf \"%8.2f s\" t\n",
    "            res[:success] = true\n",
    "        else\n",
    "            verbose && @printf \"%8.2f t\" t\n",
    "            res[:fail] = true\n",
    "        end\n",
    "            \n",
    "    catch err\n",
    "        verbose && @printf \"%8.2f f\" 0Inf\n",
    "        res[:error] = true\n",
    "        res[:error_type] = \"$(typeof(err))\"\n",
    "        res[:time] = Inf\n",
    "    end\n",
    "    \n",
    "    flush(stdout)\n",
    "    \n",
    "    return\n",
    "end"
   ]
  },
  {
   "cell_type": "code",
   "execution_count": 189,
   "metadata": {},
   "outputs": [
    {
     "data": {
      "text/plain": [
       "benchmark (generic function with 2 methods)"
      ]
     },
     "execution_count": 189,
     "metadata": {},
     "output_type": "execute_result"
    }
   ],
   "source": [
    "function benchmark(files, solvers, names; verbose=false)\n",
    "    \n",
    "    @assert length(solvers) == length(names)\n",
    "    \n",
    "    time_tot = 0.0  # Total solve time\n",
    "\n",
    "    n_err_read = 0\n",
    "    n_err_solve = 0\n",
    "    n_term = 0\n",
    "    n_success = 0\n",
    "\n",
    "    results = Dict()\n",
    "\n",
    "    # Initial log\n",
    "    @printf \"%12s\" \"\"\n",
    "    for (s, name) in zip(solvers, names)\n",
    "        results[name] = Dict{String, Dict}()\n",
    "        @printf \"%10s\" name\n",
    "    end\n",
    "    @printf \"\\n\"\n",
    "    \n",
    "    for f in files\n",
    "        verbose && @printf \"%12s\" f\n",
    "        \n",
    "        # Read MPS file\n",
    "        m, n, c, b, A, collb, colub, ranges = Tulip.readmps(\"./netlib/\" * f)\n",
    "    \n",
    "        for (s, name) in zip(solvers, names)\n",
    "            \n",
    "            results[name][f] = Dict()\n",
    "            \n",
    "            # Instanciate model\n",
    "            model = MPB.LinearQuadraticModel(s)\n",
    "            MPB.loadproblem!(model, A, collb, colub, c, b, b, :Min)\n",
    "            \n",
    "            benchmark_instance(model, results[name][f], verbose=verbose)\n",
    "        end\n",
    "            \n",
    "        verbose && @printf \"\\n\"\n",
    "        flush(stdout)\n",
    "\n",
    "    end\n",
    "    \n",
    "    return results\n",
    "end"
   ]
  },
  {
   "cell_type": "code",
   "execution_count": 186,
   "metadata": {
    "collapsed": true
   },
   "outputs": [],
   "source": [
    "s_clp = ClpSolver(\n",
    "    LogLevel=0,\n",
    "    PresolveType=1,\n",
    "    SolveType=4,\n",
    "    MaximumSeconds=300\n",
    ");\n",
    "\n",
    "s_glpk = GLPKSolverLP(\n",
    "#   presolve=true,  # no pre-solve for interior-point (apparently)\n",
    "    method=:InteriorPoint,\n",
    "    msg_lev=0\n",
    ");\n",
    "\n",
    "s_ipo = IpoptSolver(\n",
    "    print_level=0,\n",
    "    max_cpu_time=300.0,\n",
    ");\n",
    "\n",
    "s_msk = MosekSolver(\n",
    "    MSK_IPAR_INTPNT_BASIS=0,\n",
    "    MSK_IPAR_NUM_THREADS=1,\n",
    "    MSK_IPAR_PRESOLVE_USE=0,\n",
    "    MSK_IPAR_LOG=0,\n",
    "    MSK_DPAR_OPTIMIZER_MAX_TIME=300\n",
    ");\n",
    "\n",
    "s_tlp = Tulip.TulipSolver(\n",
    "    verbose=0,\n",
    "    time_limit=300,\n",
    "    algo=1\n",
    ");"
   ]
  },
  {
   "cell_type": "code",
   "execution_count": 191,
   "metadata": {
    "scrolled": true
   },
   "outputs": [
    {
     "name": "stdout",
     "output_type": "stream",
     "text": [
      "                   TLP\n",
      "  25FV47.SIF     NaN f\n",
      " 80BAU3B.SIF    0.19 s\n",
      "ADLITTLE.SIF    0.00 s\n",
      "   AFIRO.SIF    0.00 s\n",
      "     AGG.SIF    0.04 s\n",
      "    AGG2.SIF    0.04 s\n",
      "    AGG3.SIF    0.04 s\n",
      "   BANDM.SIF    0.01 s\n",
      "BEACONFD.SIF    0.01 s\n",
      "   BLEND.SIF    0.00 s\n",
      "    BNL1.SIF     NaN f\n",
      "    BNL2.SIF    0.18 s\n",
      " BOEING1.SIF    0.03 s\n",
      " BOEING2.SIF    0.01 s\n",
      "  BORE3D.SIF     NaN f\n",
      "  BRANDY.SIF     NaN f\n",
      "   CAPRI.SIF     NaN f\n",
      "   CYCLE.SIF     NaN f\n",
      "  CZPROB.SIF    0.04 s\n",
      "  D2Q06C.SIF    0.43 s\n",
      "  D6CUBE.SIF     NaN f\n",
      "  DEGEN2.SIF     NaN f\n",
      "  DEGEN3.SIF     NaN f\n",
      "  DFL001.SIF     NaN f\n",
      "    E226.SIF    0.08 s\n",
      "ETAMACRO.SIF    0.02 s\n",
      "FFFFF800.SIF    0.06 s\n",
      "  FINNIS.SIF    0.02 s\n",
      "   FIT1D.SIF    0.01 s\n",
      "   FIT1P.SIF    0.37 s\n",
      "   FIT2D.SIF    0.16 s\n",
      "   FIT2P.SIF   16.57 s\n",
      " FORPLAN.SIF    0.10 s\n",
      "  GANGES.SIF    0.04 s\n",
      "GFRD-PNC.SIF    0.01 s\n",
      "GREENBEA.SIF     NaN f\n",
      "GREENBEB.SIF     NaN f\n",
      "  GROW15.SIF    0.07 t\n",
      "  GROW22.SIF    0.11 t\n",
      "   GROW7.SIF    0.04 t\n",
      "  ISRAEL.SIF    0.03 s\n",
      "     KB2.SIF     NaN f\n",
      "   LOTFI.SIF    0.00 s\n",
      "MAROS-R7.SIF    1.23 s\n",
      "   MAROS.SIF    0.08 s\n",
      " MODSZK1.SIF     NaN f\n",
      "    NESM.SIF    0.08 s\n",
      "  PEROLD.SIF     NaN f\n",
      "PILOT-JA.SIF     NaN f\n",
      "PILOT-WE.SIF     NaN f\n",
      "   PILOT.SIF    0.61 s\n",
      "  PILOT4.SIF     NaN f\n",
      " PILOT87.SIF    2.46 s\n",
      "PILOTNOV.SIF    0.10 s\n",
      "   QAP12.SIF     NaN f\n",
      "   QAP15.SIF     NaN f\n",
      "    QAP8.SIF     NaN f\n",
      "RECIPELP.SIF    0.00 s\n",
      "   SC105.SIF    0.00 s\n",
      "   SC205.SIF    0.00 s\n",
      "   SC50A.SIF    0.00 s\n",
      "   SC50B.SIF    0.00 s\n",
      " SCAGR25.SIF    0.01 s\n",
      "  SCAGR7.SIF    0.00 s\n",
      "  SCFXM1.SIF    0.02 s\n",
      "  SCFXM2.SIF    0.04 s\n",
      "  SCFXM3.SIF    0.05 s\n",
      "SCORPION.SIF     NaN f\n",
      "   SCRS8.SIF    0.02 s\n",
      "   SCSD1.SIF    0.00 s\n",
      "   SCSD6.SIF    0.01 s\n",
      "   SCSD8.SIF    0.02 s\n",
      "  SCTAP1.SIF    0.01 s\n",
      "  SCTAP2.SIF    0.02 s\n",
      "  SCTAP3.SIF    0.03 s\n",
      "    SEBA.SIF    0.15 s\n",
      " SHARE1B.SIF    0.01 s\n",
      " SHARE2B.SIF    0.00 s\n",
      "   SHELL.SIF     NaN f\n",
      " SHIP04L.SIF     NaN f\n",
      " SHIP04S.SIF     NaN f\n",
      " SHIP08L.SIF     NaN f\n",
      " SHIP08S.SIF     NaN f\n",
      " SHIP12L.SIF     NaN f\n",
      " SHIP12S.SIF     NaN f\n",
      "  SIERRA.SIF     NaN f\n",
      "   STAIR.SIF     NaN f\n",
      "STANDATA.SIF    0.01 s\n",
      "STANDGUB.SIF     NaN f\n",
      "STANDMPS.SIF    0.02 s\n",
      "STOCFOR1.SIF    0.00 s\n",
      "STOCFOR2.SIF    0.08 s\n",
      "STOCFOR3.SIF    0.98 s\n",
      "   TRUSS.SIF    0.08 s\n",
      "    TUFF.SIF     NaN f\n",
      "VTP-BASE.SIF     NaN f\n",
      "  WOOD1P.SIF     NaN f\n",
      "   WOODW.SIF    0.14 s\n"
     ]
    }
   ],
   "source": [
    "results = benchmark(\n",
    "    readdir(\"./netlib\"),\n",
    "    [#=s_clp, s_glpk, s_ipo, s_msk,=# s_tlp],\n",
    "    [#=:CLP, :GLPK, :IPO, :MSK,=# :TLP],\n",
    "    verbose=true\n",
    ");"
   ]
  },
  {
   "cell_type": "code",
   "execution_count": 197,
   "metadata": {},
   "outputs": [
    {
     "data": {
      "text/plain": [
       "Dict{Any,Any} with 5 entries:\n",
       "  :success    => false\n",
       "  :fail       => false\n",
       "  :error_type => \"PosDefException\"\n",
       "  :error      => true\n",
       "  :time       => Inf"
      ]
     },
     "execution_count": 197,
     "metadata": {},
     "output_type": "execute_result"
    }
   ],
   "source": [
    "results[:TLP][\"25FV47.SIF\"]"
   ]
  },
  {
   "cell_type": "code",
   "execution_count": 202,
   "metadata": {
    "collapsed": true
   },
   "outputs": [],
   "source": [
    "function MPB.loadproblem!(model::Tulip.TulipMathProgModel, filename::String)\n",
    "    m, n, c, b, A, collb, colub, ranges = Tulip.readmps(filename)\n",
    "    MPB.loadproblem!(model, A, collb, colub, c, b, b, :Min)\n",
    "    \n",
    "    return model\n",
    "end"
   ]
  },
  {
   "cell_type": "code",
   "execution_count": 211,
   "metadata": {},
   "outputs": [
    {
     "ename": "ErrorException",
     "evalue": "type Pairs has no field verbose",
     "output_type": "error",
     "traceback": [
      "type Pairs has no field verbose",
      "",
      "Stacktrace:",
      " [1] setproperty!(::Base.Iterators.Pairs{Symbol,Int64,Tuple{Symbol,Symbol,Symbol},NamedTuple{(:verbose, :time_limit, :algo),Tuple{Int64,Int64,Int64}}}, ::Symbol, ::Int64) at ./sysimg.jl:19",
      " [2] top-level scope at In[211]:1"
     ]
    }
   ],
   "source": [
    "s_tlp.options.verbose = 1"
   ]
  },
  {
   "cell_type": "code",
   "execution_count": 231,
   "metadata": {},
   "outputs": [
    {
     "name": "stdout",
     "output_type": "stream",
     "text": [
      "     KB2.SIF  PosDefException\n",
      "  BRANDY.SIF  PosDefException\n",
      "GREENBEA.SIF  PosDefException\n",
      "SCORPION.SIF  PosDefException\n",
      "    BNL1.SIF  PosDefException\n",
      " SHIP08L.SIF  PosDefException\n",
      "  BORE3D.SIF  PosDefException\n",
      "PILOT-WE.SIF  ErrorException\n",
      "PILOT-JA.SIF  ErrorException\n",
      " SHIP04L.SIF  PosDefException\n",
      "   QAP15.SIF  PosDefException\n",
      "   QAP12.SIF  PosDefException\n",
      "  SIERRA.SIF  PosDefException\n",
      "   CYCLE.SIF  ErrorException\n",
      " SHIP08S.SIF  PosDefException\n",
      "    QAP8.SIF  PosDefException\n",
      "  DEGEN2.SIF  PosDefException\n",
      "  D6CUBE.SIF  PosDefException\n",
      " SHIP04S.SIF  PosDefException\n",
      "  25FV47.SIF  PosDefException\n",
      "    TUFF.SIF  ErrorException\n",
      "VTP-BASE.SIF  ErrorException\n",
      "GREENBEB.SIF  ErrorException\n",
      "   STAIR.SIF  ErrorException\n",
      "STANDGUB.SIF  PosDefException\n",
      "  DFL001.SIF  PosDefException\n",
      "  PILOT4.SIF  ErrorException\n",
      " MODSZK1.SIF  ErrorException\n",
      "  WOOD1P.SIF  PosDefException\n",
      "  DEGEN3.SIF  PosDefException\n",
      "   CAPRI.SIF  ErrorException\n",
      "   SHELL.SIF  PosDefException\n",
      " SHIP12L.SIF  PosDefException\n",
      " SHIP12S.SIF  PosDefException\n",
      "  PEROLD.SIF  ErrorException\n"
     ]
    }
   ],
   "source": [
    "for (k, v) in results[:TLP]\n",
    "    if v[:error]\n",
    "        @printf \"%12s\" k\n",
    "        @printf \"  %s\" v[:error_type]\n",
    "        @printf \"\\n\"\n",
    "    \n",
    "#         model = MPB.LinearQuadraticModel(s_tlp)\n",
    "#         m, n, c, b, A, collb, colub, ranges = Tulip.readmps(\"./netlib/GREENBEA.SIF\")\n",
    "#         MPB.loadproblem!(model, A, collb, colub, c, b, b, :Min)\n",
    "\n",
    "#         model.inner.env.verbose.val = 1\n",
    "\n",
    "#         try\n",
    "#             MPB.optimize!(model)\n",
    "#         catch err\n",
    "#         end\n",
    "        \n",
    "    end\n",
    "end"
   ]
  },
  {
   "cell_type": "code",
   "execution_count": 104,
   "metadata": {},
   "outputs": [
    {
     "name": "stdout",
     "output_type": "stream",
     "text": [
      "GFRD-PNC.SIF           Optimal    0.01\n",
      "PILOTNOV.SIF           Optimal    0.08\n",
      "  SCAGR7.SIF           Optimal    0.00\n",
      "  SCFXM2.SIF           Optimal    0.03\n",
      "ADLITTLE.SIF           Optimal    0.00\n",
      "STOCFOR3.SIF           Optimal    0.77\n",
      "   FIT2D.SIF           Optimal    0.12\n",
      "    SEBA.SIF           Optimal    0.12\n",
      "   SCSD6.SIF           Optimal    0.01\n",
      "STOCFOR1.SIF           Optimal    0.00\n",
      "   AFIRO.SIF           Optimal    0.00\n",
      "     KB2.SIF   PosDefException     Inf\n",
      "  BRANDY.SIF   PosDefException     Inf\n",
      "GREENBEA.SIF   PosDefException     Inf\n",
      "SCORPION.SIF   PosDefException     Inf\n",
      "  SCTAP2.SIF           Optimal    0.02\n",
      "   BLEND.SIF           Optimal    0.00\n",
      "   GROW7.SIF           Unknown    0.03\n",
      " BOEING1.SIF           Optimal    0.02\n",
      "    BNL1.SIF   PosDefException     Inf\n",
      " SHIP08L.SIF   PosDefException     Inf\n",
      "  BORE3D.SIF   PosDefException     Inf\n",
      "   TRUSS.SIF           Optimal    0.06\n",
      "   SCRS8.SIF           Optimal    0.01\n",
      "PILOT-WE.SIF    ErrorException     Inf\n",
      "RECIPELP.SIF           Optimal    0.00\n",
      "  ISRAEL.SIF           Optimal    0.02\n",
      "PILOT-JA.SIF    ErrorException     Inf\n",
      " SCAGR25.SIF           Optimal    0.00\n",
      "  SCTAP3.SIF           Optimal    0.02\n",
      " SHIP04L.SIF   PosDefException     Inf\n",
      "     AGG.SIF           Optimal    0.03\n",
      "   SCSD8.SIF           Optimal    0.01\n",
      "   QAP15.SIF   PosDefException     Inf\n",
      "   SCSD1.SIF           Optimal    0.00\n",
      "FFFFF800.SIF           Optimal    0.05\n",
      "  GROW15.SIF           Unknown    0.07\n",
      "    AGG2.SIF           Optimal    0.03\n",
      "   MAROS.SIF           Optimal    0.07\n",
      "   QAP12.SIF   PosDefException     Inf\n",
      "   SC50A.SIF           Optimal    0.00\n",
      "  SIERRA.SIF   PosDefException     Inf\n",
      "STANDMPS.SIF           Optimal    0.01\n",
      "    NESM.SIF           Optimal    0.07\n",
      "   CYCLE.SIF    ErrorException     Inf\n",
      "  CZPROB.SIF           Optimal    0.04\n",
      " SHIP08S.SIF   PosDefException     Inf\n",
      "    BNL2.SIF           Optimal    0.15\n",
      "    QAP8.SIF   PosDefException     Inf\n",
      "   SC50B.SIF           Optimal    0.00\n",
      "   WOODW.SIF           Optimal    0.12\n",
      "  GROW22.SIF           Unknown    0.10\n",
      " PILOT87.SIF           Optimal    1.98\n",
      "   SC105.SIF           Optimal    0.00\n",
      "BEACONFD.SIF           Optimal    0.01\n",
      "  DEGEN2.SIF   PosDefException     Inf\n",
      "  D6CUBE.SIF   PosDefException     Inf\n",
      "  GANGES.SIF           Optimal    0.04\n",
      " SHIP04S.SIF   PosDefException     Inf\n",
      "  25FV47.SIF   PosDefException     Inf\n",
      "    TUFF.SIF    ErrorException     Inf\n",
      "  SCFXM3.SIF           Optimal    0.04\n",
      "VTP-BASE.SIF    ErrorException     Inf\n",
      "  FINNIS.SIF           Optimal    0.02\n",
      "MAROS-R7.SIF           Optimal    1.04\n",
      "    AGG3.SIF           Optimal    0.04\n",
      "GREENBEB.SIF    ErrorException     Inf\n",
      "  SCFXM1.SIF           Optimal    0.01\n",
      "   PILOT.SIF           Optimal    0.52\n",
      "   FIT2P.SIF           Optimal   15.51\n",
      "   STAIR.SIF    ErrorException     Inf\n",
      "STANDATA.SIF           Optimal    0.01\n",
      "STANDGUB.SIF   PosDefException     Inf\n",
      "STOCFOR2.SIF           Optimal    0.06\n",
      "    E226.SIF           Optimal    0.02\n",
      "   SC205.SIF           Optimal    0.00\n",
      "   BANDM.SIF           Optimal    0.01\n",
      "   FIT1P.SIF           Optimal    0.30\n",
      " FORPLAN.SIF           Optimal    0.07\n",
      "  DFL001.SIF   PosDefException     Inf\n",
      "  PILOT4.SIF    ErrorException     Inf\n",
      "   LOTFI.SIF           Optimal    0.00\n",
      " MODSZK1.SIF    ErrorException     Inf\n",
      "  WOOD1P.SIF   PosDefException     Inf\n",
      "ETAMACRO.SIF           Optimal    0.07\n",
      "  DEGEN3.SIF   PosDefException     Inf\n",
      " BOEING2.SIF           Optimal    0.01\n",
      "   CAPRI.SIF    ErrorException     Inf\n",
      "   SHELL.SIF   PosDefException     Inf\n",
      " SHIP12L.SIF   PosDefException     Inf\n",
      "   FIT1D.SIF           Optimal    0.01\n",
      "  SCTAP1.SIF           Optimal    0.01\n",
      " SHARE1B.SIF           Optimal    0.00\n",
      " SHIP12S.SIF   PosDefException     Inf\n",
      "  D2Q06C.SIF           Optimal    0.37\n",
      "  PEROLD.SIF    ErrorException     Inf\n",
      " SHARE2B.SIF           Optimal    0.00\n",
      " 80BAU3B.SIF           Optimal    0.23\n"
     ]
    }
   ],
   "source": [
    "for k in readdir(\"./netlib\")\n",
    "    v = res_tlp[k]\n",
    "    @printf \"%12s%18s%8.2f\\n\" k v[2] v[1]\n",
    "end"
   ]
  },
  {
   "cell_type": "code",
   "execution_count": 47,
   "metadata": {
    "collapsed": true
   },
   "outputs": [],
   "source": [
    "import Statistics:mean"
   ]
  },
  {
   "cell_type": "code",
   "execution_count": 56,
   "metadata": {
    "collapsed": true
   },
   "outputs": [],
   "source": [
    "gmean(u) = exp(mean(log.(u)));\n",
    "gmean1(u) = exp(mean(log.(u .+ 1.0))) - 1.0;"
   ]
  },
  {
   "cell_type": "code",
   "execution_count": 122,
   "metadata": {
    "collapsed": true
   },
   "outputs": [],
   "source": [
    "# Only look at times > 1s\n",
    "times_tlp = [res_tlp[k][1] for (k, v) in res_tlp if ( (v[2] == \"Optimal\") && (v[1] > 0.1))];\n",
    "times_msk = [res_msk[k][1] for (k, v) in res_tlp if ( (v[2] == \"Optimal\") && (v[1] > 0.1))];\n",
    "times_clp = [res_clp[k][1] for (k, v) in res_tlp if ( (v[2] == \"Optimal\") && (v[1] > 0.1))];\n",
    "times_glpk = [res_glpk[k][1] for (k, v) in res_tlp if ( (v[2] == \"Optimal\") && (v[1] > 0.1))];"
   ]
  },
  {
   "cell_type": "code",
   "execution_count": 125,
   "metadata": {},
   "outputs": [
    {
     "data": {
      "text/plain": [
       "(0.4612585965154194, 0.640693395675878, 0.14780582679557713, 1.1559519398702778)"
      ]
     },
     "execution_count": 125,
     "metadata": {},
     "output_type": "execute_result"
    }
   ],
   "source": [
    "f = gmean\n",
    "f(times_tlp), f(times_clp), f(times_msk), f(times_glpk)"
   ]
  }
 ],
 "metadata": {
  "kernelspec": {
   "display_name": "Julia 1.0.1",
   "language": "julia",
   "name": "julia-1.0"
  },
  "language_info": {
   "file_extension": ".jl",
   "mimetype": "application/julia",
   "name": "julia",
   "version": "1.0.1"
  }
 },
 "nbformat": 4,
 "nbformat_minor": 2
}
